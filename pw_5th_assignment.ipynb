{
  "nbformat": 4,
  "nbformat_minor": 0,
  "metadata": {
    "colab": {
      "provenance": []
    },
    "kernelspec": {
      "name": "python3",
      "display_name": "Python 3"
    },
    "language_info": {
      "name": "python"
    }
  },
  "cells": [
    {
      "cell_type": "code",
      "execution_count": null,
      "metadata": {
        "id": "aZ6yjU8fgJD8"
      },
      "outputs": [],
      "source": [
        "#theory"
      ]
    },
    {
      "cell_type": "markdown",
      "source": [
        "answer 1:-interpreted languages execute code line by line and complied languages convert code to machine code before execution"
      ],
      "metadata": {
        "id": "FDq-0y-jgaRl"
      }
    },
    {
      "cell_type": "markdown",
      "source": [
        "answer2:- exception handling is a mechanism to handle runtime error,allowing program to continue execution or provide a meaningful erroe message"
      ],
      "metadata": {
        "id": "mwvBBe1Xg2KD"
      }
    },
    {
      "cell_type": "markdown",
      "source": [
        "answer3:- the finally block ensures that certain code is executed regardless of whether an exception occured or not ,used for cleanup or releasing resources"
      ],
      "metadata": {
        "id": "_RatGaDxhLpS"
      }
    },
    {
      "cell_type": "markdown",
      "source": [
        "answer4:- logging is a way to record events or message during program execution ,helping with debugging ,monitoring and error tracking"
      ],
      "metadata": {
        "id": "ud009dwuhgG3"
      }
    },
    {
      "cell_type": "markdown",
      "source": [
        "answer 5:-the del method is a special method called when an object is about to be destroyed ,used for cleanup or releasing resources"
      ],
      "metadata": {
        "id": "H1lW6rtuh0ka"
      }
    },
    {
      "cell_type": "markdown",
      "source": [
        "answer 6:- \"import\" imports module,while \"from import\" imports specific functions or variables from a module making them available for direct use"
      ],
      "metadata": {
        "id": "kU1d9mEPiGhm"
      }
    },
    {
      "cell_type": "markdown",
      "source": [
        "answer 7:- we can handle multiple exception using multiple \"except\" blocks or \"excrpt\" block with multiple exception types"
      ],
      "metadata": {
        "id": "_uC8RcfaidVb"
      }
    },
    {
      "cell_type": "markdown",
      "source": [
        "answer8:- the \"with\" statement ensures that files are properly closed after use"
      ],
      "metadata": {
        "id": "G7nztMNmizLi"
      }
    },
    {
      "cell_type": "markdown",
      "source": [
        "answer 9:- multithreading involves executing multiple threads within a single process and multiprocessing involves executing multiple processes"
      ],
      "metadata": {
        "id": "q5udvD83jBCZ"
      }
    },
    {
      "cell_type": "markdown",
      "source": [
        "answer 10:- logging helps with debugging ,monitoring,error tracking"
      ],
      "metadata": {
        "id": "L_pHHiK_jV72"
      }
    },
    {
      "cell_type": "markdown",
      "source": [
        "answer11:- memory mangement refers to the process of manging memory alocation and deallocation for objects"
      ],
      "metadata": {
        "id": "i-Msn7U0jf4b"
      }
    },
    {
      "cell_type": "markdown",
      "source": [
        "answer 12:-the basic steps are : try ,except ,finally"
      ],
      "metadata": {
        "id": "WLHyYrvfjua3"
      }
    },
    {
      "cell_type": "markdown",
      "source": [
        "answer 13:- memory mangement is important to prevent memory leaks ,ensure efficient use of resources and prevent crashes due to memory exhaustion"
      ],
      "metadata": {
        "id": "ne3ax5ihj48e"
      }
    },
    {
      "cell_type": "markdown",
      "source": [
        "answer14:- try contains code that might raise an exception and excepts contain handling of exception"
      ],
      "metadata": {
        "id": "-dvj7gLTkLu5"
      }
    },
    {
      "cell_type": "markdown",
      "source": [
        "answer 15:- python's garbage collectors periodically frees memory occupied by objects that are no longer needed"
      ],
      "metadata": {
        "id": "Iv51q_qZkctH"
      }
    },
    {
      "cell_type": "markdown",
      "source": [
        "answer 16:-the else block is executed when no exception occurs in the try block"
      ],
      "metadata": {
        "id": "eHSCJ3rvksiq"
      }
    },
    {
      "cell_type": "markdown",
      "source": [
        "answer 17: debug, info,error\n",
        "```\n",
        "\n"
      ],
      "metadata": {
        "id": "yn4jkKEBk7hw"
      }
    },
    {
      "cell_type": "markdown",
      "source": [
        "answer 18:- os.fork() creates a new process by duplicating the current code ,multiprocessing provides a higher level interface for creating and managing processes"
      ],
      "metadata": {
        "id": "HuJwDpzHlXoi"
      }
    },
    {
      "cell_type": "markdown",
      "source": [
        "answer 19:- closing a file helps us yo prevent data loss"
      ],
      "metadata": {
        "id": "erROsBl1l0sG"
      }
    },
    {
      "cell_type": "code",
      "source": [],
      "metadata": {
        "id": "ehPNDTVTlOuE"
      },
      "execution_count": null,
      "outputs": []
    },
    {
      "cell_type": "markdown",
      "source": [
        "answer 20:-file.read() reads the entire file and file.readline() reads a single line from the line"
      ],
      "metadata": {
        "id": "sFK4cAA2mHRg"
      }
    },
    {
      "cell_type": "markdown",
      "source": [
        "answer21:- the logging module provides a flexible logging system allowing us to log message at different level and control log output"
      ],
      "metadata": {
        "id": "9rL-e135mYUU"
      }
    },
    {
      "cell_type": "markdown",
      "source": [
        "answer 22:- the os module provies functions for creating ,deleting and manipulating files and directories"
      ],
      "metadata": {
        "id": "mqwaDdNUmq5V"
      }
    },
    {
      "cell_type": "markdown",
      "source": [
        "answer23:- the challenges associated with memory management is memory leaks and performance issues"
      ],
      "metadata": {
        "id": "SG_WhdO1nUlo"
      }
    },
    {
      "cell_type": "markdown",
      "source": [
        "answer24:- we can raise an exception manually using the raise keyword"
      ],
      "metadata": {
        "id": "Fo-Hxad3nlQ2"
      }
    },
    {
      "cell_type": "markdown",
      "source": [
        "answer 25:- it is important to use multithreading to improve responsiveness and system utilization"
      ],
      "metadata": {
        "id": "soH_Vu2Bnz20"
      }
    },
    {
      "cell_type": "code",
      "source": [
        "#practical answers"
      ],
      "metadata": {
        "id": "zws7ExSfoG1J"
      },
      "execution_count": null,
      "outputs": []
    },
    {
      "cell_type": "code",
      "source": [
        "#answer 1:-\n",
        "with open (\"example.txt\",\"w\") as file:\n",
        "  file.write(\"hello world\")"
      ],
      "metadata": {
        "id": "I4zzxHonoXSU"
      },
      "execution_count": null,
      "outputs": []
    },
    {
      "cell_type": "code",
      "source": [
        "#answer2:-\n",
        "def read_file():\n",
        "  try:\n",
        "    with open(\"file1\",\"r\") as file:\n",
        "      content=file1.read()\n",
        "      print(content)\n",
        "  except FileNotFoundError:\n",
        "    print(\"file1 not found\")\n",
        ""
      ],
      "metadata": {
        "id": "YxUJZFy7pU8s"
      },
      "execution_count": null,
      "outputs": []
    },
    {
      "cell_type": "code",
      "source": [
        "#answer3:-\n",
        "try:\n",
        "  with open(\"example.txt\",\"r\") as file:\n",
        "    content=file.read()\n",
        "    print(content)\n",
        "except FileNotFoundError:\n",
        "  print(\"file does not exist\")"
      ],
      "metadata": {
        "id": "5V4BDQsrp083"
      },
      "execution_count": null,
      "outputs": []
    },
    {
      "cell_type": "code",
      "source": [
        "#answer4:-\n",
        "def copy_file(source_file,destination_file):\n",
        "  try:\n",
        "    with open(source_file,\"r\") as source , open(destination_file,\"w\") as destination:\n",
        "      destination.write(source.read())\n",
        "  except FileNotFoundError:\n",
        "      print(\"file not found\")"
      ],
      "metadata": {
        "id": "YaHIv2cSqFmS"
      },
      "execution_count": null,
      "outputs": []
    },
    {
      "cell_type": "code",
      "source": [
        "#answer5:-\n",
        "try:\n",
        "  result=10/0\n",
        "except ZeroDivisionError:\n",
        "  print(\"cannot divide by zero\")"
      ],
      "metadata": {
        "id": "mBC09PJ3qjQO"
      },
      "execution_count": null,
      "outputs": []
    },
    {
      "cell_type": "code",
      "source": [
        "#answer6:-\n",
        "import logging\n",
        "logging.basicConfig(filename = \"error.log\",level=logging.ERROR)\n",
        "try:\n",
        "  result=10/0\n",
        "except ZeroDivisionError:\n",
        "  logging.error(\"cannot divide by zero\")"
      ],
      "metadata": {
        "id": "DPEwyJRYqq4W"
      },
      "execution_count": null,
      "outputs": []
    },
    {
      "cell_type": "code",
      "source": [
        "#answer7:-\n",
        "import logging\n",
        "logging.basicConfig(level = logging.DEBUG)\n",
        "logging.info(\"this is an info message\")\n",
        "logging.warning(\"this is a warning message\")\n",
        "logging.error(\"this is an error message\")"
      ],
      "metadata": {
        "id": "vUBgmS29rBHv"
      },
      "execution_count": null,
      "outputs": []
    },
    {
      "cell_type": "code",
      "source": [
        "#answer 8:-\n",
        "try:\n",
        "  with open(\"file.txt\",\"r\") as file:\n",
        "    content=file.read()\n",
        "except FileNotFoundError:\n",
        "  print(\"file not found\")"
      ],
      "metadata": {
        "id": "yeEZsW8PrcP-"
      },
      "execution_count": null,
      "outputs": []
    },
    {
      "cell_type": "code",
      "source": [
        "#answer9:-\n",
        "def read_file_to_list(filename):\n",
        "  try:\n",
        "    with open(filename,\"r\") as file:\n",
        "      return (line.strip() for line in file)\n",
        "  except FileNotFoundError:\n",
        "    print(\"the file {filename } does not exist\")\n",
        "    return []"
      ],
      "metadata": {
        "id": "z5DQdxVarnFk"
      },
      "execution_count": null,
      "outputs": []
    },
    {
      "cell_type": "code",
      "source": [
        "#answrr10:-\n",
        "with open (\"example.txt\",\"w\") as file:\n",
        "  file.append(\"hello world\")"
      ],
      "metadata": {
        "id": "HWZW6LIasRnl"
      },
      "execution_count": null,
      "outputs": []
    },
    {
      "cell_type": "code",
      "source": [
        "#answer11:-\n",
        "\n",
        "data = {\"name\" : \"urvah\"}\n",
        "try:\n",
        "  print(data[\"age\"])\n",
        "except KeyError:\n",
        "  print(\"key error\")"
      ],
      "metadata": {
        "id": "im6l6VxisgqC"
      },
      "execution_count": null,
      "outputs": []
    },
    {
      "cell_type": "code",
      "source": [
        "#answer12:-\n",
        "try:\n",
        "  result=10/0\n",
        "  data = {\"name\" : \"urvah\"}\n",
        "  print(data[\"age\"])\n",
        "except ZeroDivisionError:\n",
        "  print(\"cannot divide by zero\")\n",
        "except KeyError:\n",
        "  print(\"key error\")\n",
        ""
      ],
      "metadata": {
        "id": "Dqmu4Ku4s3gV"
      },
      "execution_count": null,
      "outputs": []
    },
    {
      "cell_type": "code",
      "source": [
        "#answer13;-\n",
        "import os\n",
        "def check_file_exist(file1):\n",
        "  return os.path.exists(file1)"
      ],
      "metadata": {
        "id": "Q3y2fZ6AtGod"
      },
      "execution_count": null,
      "outputs": []
    },
    {
      "cell_type": "code",
      "source": [
        "#answer14:-\n",
        "import logging\n",
        " logging.basicConfig(level=logging.DEBUG)\n",
        " try:\n",
        "  result = 10/0\n",
        "  except ZeroDivisionError:\n",
        "    logging.error(\"cannot divide by zero\")\n",
        "    logging.info(\"this is an info message\")"
      ],
      "metadata": {
        "id": "KXfWUf-XtV6Y"
      },
      "execution_count": null,
      "outputs": []
    },
    {
      "cell_type": "code",
      "source": [
        "#answer15:-\n",
        "def print_file_content(file1):\n",
        "  try:\n",
        "    with open(file1,\"r\") as file:\n",
        "      content=file.read()\n",
        "      if content:\n",
        "        print(content)\n",
        "      else:\n",
        "      print(\"the file is empty\")\n",
        "  except FileNotFoundError:\n",
        "    print(\"file not found\")"
      ],
      "metadata": {
        "id": "CSGloG5QtxWz"
      },
      "execution_count": null,
      "outputs": []
    },
    {
      "cell_type": "code",
      "source": [
        "#answer16:-\n",
        "from memory_profiler import profile\n",
        "@profile\n",
        "def my_function():\n",
        "  a = [1] *(10**6)\n",
        "  b = [2] *(2*10**7)\n",
        "  del b\n",
        "  return a\n",
        "  if __name__ == \"__main__\":\n",
        "    my_function()"
      ],
      "metadata": {
        "id": "5J2yy7-euMyW"
      },
      "execution_count": null,
      "outputs": []
    },
    {
      "cell_type": "code",
      "source": [
        "#answer17\n",
        "def write_numbers_to_file(file1,numbers):\n",
        "  try:\n",
        "    with open(file1,\"w\") as file:\n",
        "      for number in numbers:\n",
        "        file.write(str(number)+\"\\n\")"
      ],
      "metadata": {
        "id": "6oKq3dJOu8W-"
      },
      "execution_count": null,
      "outputs": []
    },
    {
      "cell_type": "code",
      "source": [
        "#answr18:-\n",
        "import logging\n",
        "from logging.handlers import rotatingfilehandler\n",
        "logger = logging.getLogger(\"my_logger\")\n",
        "logger.setLevel(logging.INFO)\n",
        "handler = rotatingfilehandler(\"app.log\",maxBytes=10000,backupCount=5)\n",
        "handler.setlevel(logging.INFO)\n",
        "formatter = logging.Formatter(\"%(asctime)s - %(levelname)s - %(message)s\")\n",
        "handler.setFormatter(formatter)\n",
        "logger.addHandler(handler)\n",
        "logger.info(\"this is an info message\")"
      ],
      "metadata": {
        "id": "wqu3eYTOvL_N"
      },
      "execution_count": null,
      "outputs": []
    },
    {
      "cell_type": "code",
      "source": [
        "#answer19:-\n",
        "def handle_errors():\n",
        "  try:\n",
        "    my_list = [1,2,3]\n",
        "    print(my_list[5])\n",
        "    my_dict = {\"name\" : \"urvah\"}\n",
        "    print(my_dict[\"age\"])\n",
        "    result = 10/0\n",
        "  except IndexError:\n",
        "    print(\"index error\")\n",
        "  except KeyError:\n",
        "    print(\"key error\")"
      ],
      "metadata": {
        "id": "PjCrDespv01Q"
      },
      "execution_count": null,
      "outputs": []
    },
    {
      "cell_type": "code",
      "source": [
        "#answer20-\n",
        "def read_file(file1):\n",
        "  try:\n",
        "    with open(file1,\"r\") as file:\n",
        "      return file.read()\n",
        "  except FileNotFoundError:\n",
        "    print(\"file not found\")"
      ],
      "metadata": {
        "id": "LJtzOT_UwO5Q"
      },
      "execution_count": null,
      "outputs": []
    },
    {
      "cell_type": "code",
      "source": [
        "#answer21;-\n",
        "def count_words(file1):\n",
        "  try:\n",
        "    with open(file1,\"r\") as file:\n",
        "      content = file.read()\n",
        "      return len(words)\n",
        "  except FileNotFoundError:\n",
        "    print(\"file not found\")"
      ],
      "metadata": {
        "id": "m2eMf8luwgTe"
      },
      "execution_count": null,
      "outputs": []
    },
    {
      "cell_type": "code",
      "source": [
        "#answer22;-\n",
        "import os\n",
        "def is_file_empty(file1):\n",
        "    return os.path.getsize(file1) == 0\n",
        ""
      ],
      "metadata": {
        "id": "uaqk8sqxwtxZ"
      },
      "execution_count": null,
      "outputs": []
    },
    {
      "cell_type": "code",
      "source": [
        "#answer23:-\n",
        "import logging\n",
        "logging.basicConFig(file1 = \"error.log\",level=logging.ERROR)\n",
        "try:\n",
        "  with open(\"file.txt\",\"r\") as file:\n",
        "    content = file.read()\n",
        "except FileNotFoundError:\n",
        "  logging.error(\"file not found\")"
      ],
      "metadata": {
        "id": "7JDT1ZbWw6M2"
      },
      "execution_count": null,
      "outputs": []
    }
  ]
}